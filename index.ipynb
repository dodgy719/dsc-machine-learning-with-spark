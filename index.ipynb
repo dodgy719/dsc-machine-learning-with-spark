{
 "cells": [
  {
   "cell_type": "markdown",
   "metadata": {},
   "source": [
    "# Machine Learning with Spark\n",
    "\n",
    "## Introduction\n",
    "\n",
    "You've now explored how to perform operations on Spark RDDs for simple MapReduce tasks. Luckily, there are far more advanced use cases for Spark, and many of them are found in the `ml` library, which we are going to explore in this lesson.\n",
    "\n",
    "\n",
    "## Objectives\n",
    "\n",
    "You will be able to: \n",
    "\n",
    "- Load and manipulate data using Spark DataFrames  \n",
    "- Define estimators and transformers in Spark ML \n",
    "- Create a Spark ML pipeline that transforms data and runs over a grid of hyperparameters \n",
    "\n",
    "\n",
    "\n",
    "## A Tale of Two Libraries\n",
    "\n",
    "If you look at the PySpark documentation, you'll notice that there are two different libraries for machine learning, [mllib](https://spark.apache.org/docs/latest/api/python/pyspark.mllib.html) and [ml](https://spark.apache.org/docs/latest/api/python/pyspark.ml.html). These libraries are extremely similar to one another, the only difference being that the `mllib` library is built upon the RDDs you just practiced using; whereas, the `ml` library is built on higher level Spark DataFrames, which has methods and attributes similar to pandas. Spark has stated that in the future, it is going to devote more effort to the `ml` library and that `mllib` will become deprecated. It's important to note that these libraries are much younger than pandas and scikit-learn and there are not as many features present in either.\n",
    "\n",
    "## Spark DataFrames\n",
    "\n",
    "In the previous lessons, you were introduced to SparkContext as the primary way to connect with a Spark Application. Here, we will be using SparkSession, which is from the [sql](https://spark.apache.org/docs/latest/api/python/pyspark.sql.html) component of PySpark. The SparkSession acts the same way as SparkContext; it is a bridge between Python and the Spark Application. It's just built on top of the Spark SQL API, a higher-level API than RDDs. In fact, a SparkContext object is spun up around which the SparkSession object is wrapped. Let's go through the process of manipulating some data here. For this example, we're going to be using the [Forest Fire dataset](https://archive.ics.uci.edu/ml/datasets/Forest+Fires) from UCI, which contains data about the area burned by wildfires in the Northeast region of Portugal in relation to numerous other factors.\n",
    "\n",
    "To begin with, let's create a SparkSession so that we can spin up our spark application. "
   ]
  },
  {
   "cell_type": "code",
   "execution_count": 1,
   "metadata": {
    "ExecuteTime": {
     "end_time": "2021-08-17T21:35:39.885608Z",
     "start_time": "2021-08-17T21:35:39.698424Z"
    }
   },
   "outputs": [],
   "source": [
    "# importing the necessary libraries\n",
    "from pyspark import SparkContext\n",
    "from pyspark.sql import SparkSession\n",
    "# sc = SparkContext('local[*]')\n",
    "# spark = SparkSession(sc)"
   ]
  },
  {
   "cell_type": "markdown",
   "metadata": {},
   "source": [
    "To create a SparkSession: "
   ]
  },
  {
   "cell_type": "code",
   "execution_count": 2,
   "metadata": {
    "ExecuteTime": {
     "end_time": "2021-08-17T21:35:47.941879Z",
     "start_time": "2021-08-17T21:35:39.887298Z"
    }
   },
   "outputs": [],
   "source": [
    "spark = SparkSession.builder.master('local').getOrCreate()"
   ]
  },
  {
   "cell_type": "markdown",
   "metadata": {},
   "source": [
    "Now, we'll load the data into a PySpark DataFrame: "
   ]
  },
  {
   "cell_type": "code",
   "execution_count": 3,
   "metadata": {
    "ExecuteTime": {
     "end_time": "2021-08-17T21:35:51.880219Z",
     "start_time": "2021-08-17T21:35:47.950953Z"
    }
   },
   "outputs": [
    {
     "data": {
      "text/plain": [
       "pyspark.sql.dataframe.DataFrame"
      ]
     },
     "execution_count": 3,
     "metadata": {},
     "output_type": "execute_result"
    }
   ],
   "source": [
    "## reading in pyspark df\n",
    "spark_df = spark.read.csv('./forestfires.csv', header='true', inferSchema='true')\n",
    "\n",
    "## observing the datatype of df\n",
    "type(spark_df)"
   ]
  },
  {
   "cell_type": "markdown",
   "metadata": {},
   "source": [
    "You'll notice that some of the methods are extremely similar or the same as those found within Pandas."
   ]
  },
  {
   "cell_type": "code",
   "execution_count": 4,
   "metadata": {
    "ExecuteTime": {
     "end_time": "2021-08-17T21:35:52.041929Z",
     "start_time": "2021-08-17T21:35:51.882149Z"
    }
   },
   "outputs": [
    {
     "data": {
      "text/plain": [
       "Row(X=7, Y=5, month='mar', day='fri', FFMC=86.2, DMC=26.2, DC=94.3, ISI=5.1, temp=8.2, RH=51, wind=6.7, rain=0.0, area=0.0)"
      ]
     },
     "execution_count": 4,
     "metadata": {},
     "output_type": "execute_result"
    }
   ],
   "source": [
    "spark_df.head()"
   ]
  },
  {
   "cell_type": "code",
   "execution_count": 5,
   "metadata": {
    "ExecuteTime": {
     "end_time": "2021-08-17T21:35:52.060567Z",
     "start_time": "2021-08-17T21:35:52.043431Z"
    }
   },
   "outputs": [
    {
     "data": {
      "text/plain": [
       "['X',\n",
       " 'Y',\n",
       " 'month',\n",
       " 'day',\n",
       " 'FFMC',\n",
       " 'DMC',\n",
       " 'DC',\n",
       " 'ISI',\n",
       " 'temp',\n",
       " 'RH',\n",
       " 'wind',\n",
       " 'rain',\n",
       " 'area']"
      ]
     },
     "execution_count": 5,
     "metadata": {},
     "output_type": "execute_result"
    }
   ],
   "source": [
    "spark_df.columns"
   ]
  },
  {
   "cell_type": "markdown",
   "metadata": {},
   "source": [
    "Selecting multiple columns is similar as well: "
   ]
  },
  {
   "cell_type": "code",
   "execution_count": 6,
   "metadata": {
    "ExecuteTime": {
     "end_time": "2021-08-17T21:35:52.097160Z",
     "start_time": "2021-08-17T21:35:52.062353Z"
    }
   },
   "outputs": [
    {
     "data": {
      "text/plain": [
       "DataFrame[month: string, day: string, rain: double]"
      ]
     },
     "execution_count": 6,
     "metadata": {},
     "output_type": "execute_result"
    }
   ],
   "source": [
    "spark_df[['month','day','rain']]"
   ]
  },
  {
   "cell_type": "markdown",
   "metadata": {},
   "source": [
    "But selecting one column is different. If you want to maintain the methods of a spark DataFrame, you should use the `.select()` method. If you want to just select the column, you can use the same method you would use in pandas (this is primarily what you would use if you're attempting to create a boolean mask). "
   ]
  },
  {
   "cell_type": "code",
   "execution_count": 7,
   "metadata": {
    "ExecuteTime": {
     "end_time": "2021-08-17T21:35:52.117581Z",
     "start_time": "2021-08-17T21:35:52.101127Z"
    },
    "scrolled": true
   },
   "outputs": [],
   "source": [
    "d = spark_df.select('rain')"
   ]
  },
  {
   "cell_type": "code",
   "execution_count": 8,
   "metadata": {
    "ExecuteTime": {
     "end_time": "2021-08-17T21:35:52.170012Z",
     "start_time": "2021-08-17T21:35:52.123560Z"
    }
   },
   "outputs": [
    {
     "data": {
      "text/plain": [
       "Column<'rain'>"
      ]
     },
     "execution_count": 8,
     "metadata": {},
     "output_type": "execute_result"
    }
   ],
   "source": [
    "spark_df['rain']"
   ]
  },
  {
   "cell_type": "markdown",
   "metadata": {},
   "source": [
    "Let's take a look at all of our data types in this dataframe"
   ]
  },
  {
   "cell_type": "code",
   "execution_count": 9,
   "metadata": {
    "ExecuteTime": {
     "end_time": "2021-08-17T21:35:52.174770Z",
     "start_time": "2021-08-17T21:35:52.171517Z"
    }
   },
   "outputs": [
    {
     "data": {
      "text/plain": [
       "[('X', 'int'),\n",
       " ('Y', 'int'),\n",
       " ('month', 'string'),\n",
       " ('day', 'string'),\n",
       " ('FFMC', 'double'),\n",
       " ('DMC', 'double'),\n",
       " ('DC', 'double'),\n",
       " ('ISI', 'double'),\n",
       " ('temp', 'double'),\n",
       " ('RH', 'int'),\n",
       " ('wind', 'double'),\n",
       " ('rain', 'double'),\n",
       " ('area', 'double')]"
      ]
     },
     "execution_count": 9,
     "metadata": {},
     "output_type": "execute_result"
    }
   ],
   "source": [
    "spark_df.dtypes"
   ]
  },
  {
   "cell_type": "markdown",
   "metadata": {},
   "source": [
    "## Aggregations with our DataFrame"
   ]
  },
  {
   "cell_type": "markdown",
   "metadata": {},
   "source": [
    "Let's investigate to see if there is any correlation between what month it is and the area of fire: "
   ]
  },
  {
   "cell_type": "code",
   "execution_count": 10,
   "metadata": {
    "ExecuteTime": {
     "end_time": "2021-08-17T21:35:52.220668Z",
     "start_time": "2021-08-17T21:35:52.176911Z"
    }
   },
   "outputs": [
    {
     "data": {
      "text/plain": [
       "DataFrame[month: string, avg(area): double]"
      ]
     },
     "execution_count": 10,
     "metadata": {},
     "output_type": "execute_result"
    }
   ],
   "source": [
    "spark_df_months = spark_df.groupBy('month').agg({'area': 'mean'})\n",
    "spark_df_months"
   ]
  },
  {
   "cell_type": "markdown",
   "metadata": {},
   "source": [
    "Notice how the grouped DataFrame is not returned when you call the aggregation method. Remember, this is still Spark! The transformations and actions are kept separate so that it is easier to manage large quantities of data. You can perform the transformation by calling `.collect()`: "
   ]
  },
  {
   "cell_type": "code",
   "execution_count": 11,
   "metadata": {
    "ExecuteTime": {
     "end_time": "2021-08-17T21:35:53.794006Z",
     "start_time": "2021-08-17T21:35:52.222250Z"
    }
   },
   "outputs": [
    {
     "data": {
      "text/plain": [
       "[Row(month='jun', avg(area)=5.841176470588234),\n",
       " Row(month='aug', avg(area)=12.489076086956521),\n",
       " Row(month='may', avg(area)=19.24),\n",
       " Row(month='feb', avg(area)=6.275),\n",
       " Row(month='sep', avg(area)=17.942616279069753),\n",
       " Row(month='mar', avg(area)=4.356666666666667),\n",
       " Row(month='oct', avg(area)=6.638),\n",
       " Row(month='jul', avg(area)=14.3696875),\n",
       " Row(month='nov', avg(area)=0.0),\n",
       " Row(month='apr', avg(area)=8.891111111111112),\n",
       " Row(month='dec', avg(area)=13.33),\n",
       " Row(month='jan', avg(area)=0.0)]"
      ]
     },
     "execution_count": 11,
     "metadata": {},
     "output_type": "execute_result"
    }
   ],
   "source": [
    "spark_df_months.collect()"
   ]
  },
  {
   "cell_type": "markdown",
   "metadata": {},
   "source": [
    "As you can see, there seem to be larger area fires during what would be considered the summer months in Portugal. On your own, practice more aggregations and manipulations that you might be able to perform on this dataset. "
   ]
  },
  {
   "cell_type": "markdown",
   "metadata": {},
   "source": [
    "## Boolean Masking \n",
    "\n",
    "Boolean masking also works with PySpark DataFrames just like Pandas DataFrames, the only difference being that the `.filter()` method is used in PySpark. To try this out, let's compare the amount of fire in those areas with absolutely no rain to those areas that had rain."
   ]
  },
  {
   "cell_type": "code",
   "execution_count": 12,
   "metadata": {
    "ExecuteTime": {
     "end_time": "2021-08-17T21:35:53.817396Z",
     "start_time": "2021-08-17T21:35:53.796397Z"
    }
   },
   "outputs": [],
   "source": [
    "no_rain = spark_df.filter(spark_df['rain'] == 0.0)\n",
    "some_rain = spark_df.filter(spark_df['rain'] > 0.0)"
   ]
  },
  {
   "cell_type": "markdown",
   "metadata": {},
   "source": [
    "Now, to perform calculations to find the mean of a column, we'll have to import functions from `pyspark.sql`. As always, to read more about them, check out the [documentation](https://spark.apache.org/docs/latest/api/python/pyspark.sql.html#module-pyspark.sql.functions)."
   ]
  },
  {
   "cell_type": "code",
   "execution_count": 13,
   "metadata": {
    "ExecuteTime": {
     "end_time": "2021-08-17T21:35:54.125487Z",
     "start_time": "2021-08-17T21:35:53.820175Z"
    }
   },
   "outputs": [
    {
     "name": "stdout",
     "output_type": "stream",
     "text": [
      "+------------------+\n",
      "|         avg(area)|\n",
      "+------------------+\n",
      "|13.023693516699408|\n",
      "+------------------+\n",
      "\n",
      "no rain fire area:  None \n",
      "\n",
      "+---------+\n",
      "|avg(area)|\n",
      "+---------+\n",
      "|  1.62375|\n",
      "+---------+\n",
      "\n",
      "some rain fire area:  None \n",
      "\n"
     ]
    }
   ],
   "source": [
    "from pyspark.sql.functions import mean\n",
    "\n",
    "print('no rain fire area: ', no_rain.select(mean('area')).show(),'\\n')\n",
    "\n",
    "print('some rain fire area: ', some_rain.select(mean('area')).show(),'\\n')"
   ]
  },
  {
   "cell_type": "markdown",
   "metadata": {},
   "source": [
    "Yes there's definitely something there! Unsurprisingly, rain plays in a big factor in the spread of wildfire.\n",
    "\n",
    "Let's obtain data from only the summer months in Portugal (June, July, and August). We can also do the same for the winter months in Portugal (December, January, February)."
   ]
  },
  {
   "cell_type": "code",
   "execution_count": 14,
   "metadata": {
    "ExecuteTime": {
     "end_time": "2021-08-17T21:35:54.373724Z",
     "start_time": "2021-08-17T21:35:54.127524Z"
    }
   },
   "outputs": [
    {
     "name": "stdout",
     "output_type": "stream",
     "text": [
      "+------------------+\n",
      "|         avg(area)|\n",
      "+------------------+\n",
      "|12.262317596566525|\n",
      "+------------------+\n",
      "\n",
      "summer months fire area None\n",
      "+-----------------+\n",
      "|        avg(area)|\n",
      "+-----------------+\n",
      "|7.918387096774193|\n",
      "+-----------------+\n",
      "\n",
      "winter months fire areas None\n"
     ]
    }
   ],
   "source": [
    "summer_months = spark_df.filter(spark_df['month'].isin(['jun','jul','aug']))\n",
    "winter_months = spark_df.filter(spark_df['month'].isin(['dec','jan','feb']))\n",
    "\n",
    "print('summer months fire area', summer_months.select(mean('area')).show())\n",
    "print('winter months fire areas', winter_months.select(mean('area')).show())"
   ]
  },
  {
   "cell_type": "markdown",
   "metadata": {},
   "source": [
    "## Machine Learning\n",
    "\n",
    "Now that we've performed some data manipulation and aggregation, lets get to the really cool stuff, machine learning! PySpark states that they've used scikit-learn as an inspiration for their implementation of a machine learning library. As a result, many of the methods and functionalities look similar, but there are some crucial distinctions. There are three main concepts found within the ML library:\n",
    "\n",
    "`Transformer`: An algorithm that transforms one PySpark DataFrame into another DataFrame. \n",
    "\n",
    "`Estimator`: An algorithm that can be fit onto a PySpark DataFrame that can then be used as a Transformer. \n",
    "\n",
    "`Pipeline`: A pipeline very similar to an `sklearn` pipeline that chains together different actions.\n",
    "\n",
    "The reasoning behind this separation of the fitting and transforming step is because Spark is lazily evaluated, so the 'fitting' of a model does not actually take place until the Transformation action is called. Let's examine what this actually looks like by performing a regression on the Forest Fire dataset. To start off with, we'll import the necessary libraries for our tasks."
   ]
  },
  {
   "cell_type": "code",
   "execution_count": 15,
   "metadata": {
    "ExecuteTime": {
     "end_time": "2021-08-17T21:35:54.488735Z",
     "start_time": "2021-08-17T21:35:54.375748Z"
    }
   },
   "outputs": [],
   "source": [
    "from pyspark.ml.regression import RandomForestRegressor\n",
    "from pyspark.ml import feature\n",
    "from pyspark.ml.feature import StringIndexer, VectorAssembler, OneHotEncoder"
   ]
  },
  {
   "cell_type": "markdown",
   "metadata": {},
   "source": [
    "Looking at our data, one can see that all the categories are numerical except for day and month. We saw some correlation between the month and area burned in a fire, so we will include that in our model. The day of the week, however, is highly unlikely to have any effect on fire, so we will drop it from the DataFrame."
   ]
  },
  {
   "cell_type": "code",
   "execution_count": 16,
   "metadata": {
    "ExecuteTime": {
     "end_time": "2021-08-17T21:35:54.556486Z",
     "start_time": "2021-08-17T21:35:54.490287Z"
    }
   },
   "outputs": [
    {
     "data": {
      "text/plain": [
       "Row(X=7, Y=5, month='mar', FFMC=86.2, DMC=26.2, DC=94.3, ISI=5.1, temp=8.2, RH=51, wind=6.7, rain=0.0, area=0.0)"
      ]
     },
     "execution_count": 16,
     "metadata": {},
     "output_type": "execute_result"
    }
   ],
   "source": [
    "fire_df = spark_df.drop('day')\n",
    "fire_df.head()"
   ]
  },
  {
   "cell_type": "markdown",
   "metadata": {},
   "source": [
    "In order for us to run our model, we need to turn the months variable into a dummy variable. In `ml` this is a 2-step process that first requires turning the categorical variable into a numerical index (`StringIndexer`). Only after the variable is an integer can PySpark create dummy variable columns related to each category (`OneHotEncoder`). Your key parameters when using these `ml` estimators are: `inputCol` (the column you want to change) and `outputCol` (where you will store the changed column). Here it is in action: "
   ]
  },
  {
   "cell_type": "code",
   "execution_count": 17,
   "metadata": {
    "ExecuteTime": {
     "end_time": "2021-08-17T21:35:55.033117Z",
     "start_time": "2021-08-17T21:35:54.558342Z"
    }
   },
   "outputs": [],
   "source": [
    "si = StringIndexer(inputCol='month', outputCol='month_num')\n",
    "model = si.fit(fire_df)\n",
    "new_df = model.transform(fire_df)"
   ]
  },
  {
   "cell_type": "markdown",
   "metadata": {},
   "source": [
    "Note the small, but critical distinction between `sklearn`'s implementation of a transformer and PySpark's implementation. `sklearn` is more object oriented and Spark is more functional oriented."
   ]
  },
  {
   "cell_type": "code",
   "execution_count": 18,
   "metadata": {
    "ExecuteTime": {
     "end_time": "2021-08-17T21:35:55.039327Z",
     "start_time": "2021-08-17T21:35:55.035166Z"
    }
   },
   "outputs": [
    {
     "data": {
      "text/plain": [
       "pyspark.ml.feature.StringIndexer"
      ]
     },
     "execution_count": 18,
     "metadata": {},
     "output_type": "execute_result"
    }
   ],
   "source": [
    "## this is an estimator (an untrained transformer)\n",
    "type(si)"
   ]
  },
  {
   "cell_type": "code",
   "execution_count": 19,
   "metadata": {
    "ExecuteTime": {
     "end_time": "2021-08-17T21:35:55.045930Z",
     "start_time": "2021-08-17T21:35:55.041476Z"
    }
   },
   "outputs": [
    {
     "data": {
      "text/plain": [
       "pyspark.ml.feature.StringIndexerModel"
      ]
     },
     "execution_count": 19,
     "metadata": {},
     "output_type": "execute_result"
    }
   ],
   "source": [
    "## this is a transformer (a trained transformer)\n",
    "type(model)"
   ]
  },
  {
   "cell_type": "code",
   "execution_count": 20,
   "metadata": {
    "ExecuteTime": {
     "end_time": "2021-08-17T21:35:55.063232Z",
     "start_time": "2021-08-17T21:35:55.048598Z"
    }
   },
   "outputs": [
    {
     "data": {
      "text/plain": [
       "['aug',\n",
       " 'sep',\n",
       " 'mar',\n",
       " 'jul',\n",
       " 'feb',\n",
       " 'jun',\n",
       " 'oct',\n",
       " 'apr',\n",
       " 'dec',\n",
       " 'jan',\n",
       " 'may',\n",
       " 'nov']"
      ]
     },
     "execution_count": 20,
     "metadata": {},
     "output_type": "execute_result"
    }
   ],
   "source": [
    "model.labels"
   ]
  },
  {
   "cell_type": "code",
   "execution_count": 21,
   "metadata": {
    "ExecuteTime": {
     "end_time": "2021-08-17T21:35:55.170611Z",
     "start_time": "2021-08-17T21:35:55.065362Z"
    }
   },
   "outputs": [
    {
     "data": {
      "text/plain": [
       "[Row(X=7, Y=5, month='mar', FFMC=86.2, DMC=26.2, DC=94.3, ISI=5.1, temp=8.2, RH=51, wind=6.7, rain=0.0, area=0.0, month_num=2.0),\n",
       " Row(X=7, Y=4, month='oct', FFMC=90.6, DMC=35.4, DC=669.1, ISI=6.7, temp=18.0, RH=33, wind=0.9, rain=0.0, area=0.0, month_num=6.0),\n",
       " Row(X=7, Y=4, month='oct', FFMC=90.6, DMC=43.7, DC=686.9, ISI=6.7, temp=14.6, RH=33, wind=1.3, rain=0.0, area=0.0, month_num=6.0),\n",
       " Row(X=8, Y=6, month='mar', FFMC=91.7, DMC=33.3, DC=77.5, ISI=9.0, temp=8.3, RH=97, wind=4.0, rain=0.2, area=0.0, month_num=2.0)]"
      ]
     },
     "execution_count": 21,
     "metadata": {},
     "output_type": "execute_result"
    }
   ],
   "source": [
    "new_df.head(4)"
   ]
  },
  {
   "cell_type": "markdown",
   "metadata": {},
   "source": [
    "As you can see, we have created a new column called `'month_num'` that represents the month by a number. Now that we have performed this step, we can use Spark's version of `OneHotEncoder()` Let's make sure we have an accurate representation of the months."
   ]
  },
  {
   "cell_type": "code",
   "execution_count": 22,
   "metadata": {
    "ExecuteTime": {
     "end_time": "2021-08-17T21:35:55.985562Z",
     "start_time": "2021-08-17T21:35:55.175864Z"
    }
   },
   "outputs": [
    {
     "data": {
      "text/plain": [
       "[Row(month_num=8.0),\n",
       " Row(month_num=0.0),\n",
       " Row(month_num=7.0),\n",
       " Row(month_num=1.0),\n",
       " Row(month_num=4.0),\n",
       " Row(month_num=11.0),\n",
       " Row(month_num=3.0),\n",
       " Row(month_num=2.0),\n",
       " Row(month_num=10.0),\n",
       " Row(month_num=6.0),\n",
       " Row(month_num=5.0),\n",
       " Row(month_num=9.0)]"
      ]
     },
     "execution_count": 22,
     "metadata": {},
     "output_type": "execute_result"
    }
   ],
   "source": [
    "new_df.select('month_num').distinct().collect()"
   ]
  },
  {
   "cell_type": "code",
   "execution_count": 23,
   "metadata": {
    "ExecuteTime": {
     "end_time": "2021-08-17T21:35:56.225424Z",
     "start_time": "2021-08-17T21:35:55.989157Z"
    }
   },
   "outputs": [
    {
     "data": {
      "text/plain": [
       "Row(X=7, Y=5, month='mar', FFMC=86.2, DMC=26.2, DC=94.3, ISI=5.1, temp=8.2, RH=51, wind=6.7, rain=0.0, area=0.0, month_num=2.0, month_vec=SparseVector(11, {2: 1.0}))"
      ]
     },
     "execution_count": 23,
     "metadata": {},
     "output_type": "execute_result"
    }
   ],
   "source": [
    "## fitting and transforming the OneHotEncoder\n",
    "ohe = feature.OneHotEncoder(inputCols=['month_num'], outputCols=['month_vec'], dropLast=True)\n",
    "one_hot_encoded = ohe.fit(new_df).transform(new_df)\n",
    "one_hot_encoded.head()"
   ]
  },
  {
   "cell_type": "markdown",
   "metadata": {},
   "source": [
    "Great, we now have a OneHotEncoded sparse vector in the `'month_vec'` column! Because Spark is optimized for big data, sparse vectors are used rather than entirely new columns for dummy variables because it is more space efficient. You can see in this first row of the DataFrame:  \n",
    "\n",
    "`month_vec=SparseVector(11, {2: 1.0})` this indicates that we have a sparse vector of size 11 (because of the parameter `dropLast = True` in `OneHotEncoder()`) and this particular data point is the 2nd index of our month labels (march, based off the labels in the `model` StringEstimator transformer).  \n",
    "\n",
    "The final requirement for all machine learning models in PySpark is to put all of the features of your model into one sparse vector. This is once again for efficiency sake. Here, we are doing that with the `VectorAssembler()` estimator."
   ]
  },
  {
   "cell_type": "code",
   "execution_count": 24,
   "metadata": {
    "ExecuteTime": {
     "end_time": "2021-08-17T21:35:56.272875Z",
     "start_time": "2021-08-17T21:35:56.227037Z"
    }
   },
   "outputs": [],
   "source": [
    "features = ['X',\n",
    " 'Y',\n",
    " 'FFMC',\n",
    " 'DMC',\n",
    " 'DC',\n",
    " 'ISI',\n",
    " 'temp',\n",
    " 'RH',\n",
    " 'wind',\n",
    " 'rain',\n",
    " 'month_vec']\n",
    "\n",
    "target = 'area'\n",
    "\n",
    "vector = VectorAssembler(inputCols=features, outputCol='features')\n",
    "vectorized_df = vector.transform(one_hot_encoded)"
   ]
  },
  {
   "cell_type": "code",
   "execution_count": 25,
   "metadata": {
    "ExecuteTime": {
     "end_time": "2021-08-17T21:35:56.387420Z",
     "start_time": "2021-08-17T21:35:56.274660Z"
    }
   },
   "outputs": [
    {
     "data": {
      "text/plain": [
       "Row(X=7, Y=5, month='mar', FFMC=86.2, DMC=26.2, DC=94.3, ISI=5.1, temp=8.2, RH=51, wind=6.7, rain=0.0, area=0.0, month_num=2.0, month_vec=SparseVector(11, {2: 1.0}), features=SparseVector(21, {0: 7.0, 1: 5.0, 2: 86.2, 3: 26.2, 4: 94.3, 5: 5.1, 6: 8.2, 7: 51.0, 8: 6.7, 12: 1.0}))"
      ]
     },
     "execution_count": 25,
     "metadata": {},
     "output_type": "execute_result"
    }
   ],
   "source": [
    "vectorized_df.head()"
   ]
  },
  {
   "cell_type": "markdown",
   "metadata": {},
   "source": [
    "Great! We now have our data in a format that seems acceptable for the last step. It's time for us to actually fit our model to data! Let's fit a Random Forest Regression model to our data. Although there are still a bunch of other features in the DataFrame, it doesn't matter for the machine learning model API. All that needs to be specified are the names of the features column and the label column. "
   ]
  },
  {
   "cell_type": "code",
   "execution_count": 26,
   "metadata": {
    "ExecuteTime": {
     "end_time": "2021-08-17T21:35:57.591931Z",
     "start_time": "2021-08-17T21:35:56.389731Z"
    }
   },
   "outputs": [],
   "source": [
    "## instantiating and fitting the model\n",
    "rf_model = RandomForestRegressor(featuresCol='features', \n",
    "                                 labelCol='area', predictionCol='prediction').fit(vectorized_df)"
   ]
  },
  {
   "cell_type": "code",
   "execution_count": 27,
   "metadata": {
    "ExecuteTime": {
     "end_time": "2021-08-17T21:35:57.610607Z",
     "start_time": "2021-08-17T21:35:57.593213Z"
    }
   },
   "outputs": [
    {
     "data": {
      "text/plain": [
       "SparseVector(21, {0: 0.1239, 1: 0.0592, 2: 0.0336, 3: 0.1819, 4: 0.0707, 5: 0.1562, 6: 0.1224, 7: 0.1576, 8: 0.0454, 9: 0.0, 10: 0.0045, 11: 0.0387, 12: 0.001, 13: 0.0039, 14: 0.0003, 15: 0.0002, 16: 0.0, 17: 0.0001, 18: 0.0001, 20: 0.0005})"
      ]
     },
     "execution_count": 27,
     "metadata": {},
     "output_type": "execute_result"
    }
   ],
   "source": [
    "rf_model.featureImportances"
   ]
  },
  {
   "cell_type": "code",
   "execution_count": 28,
   "metadata": {
    "ExecuteTime": {
     "end_time": "2021-08-17T21:35:57.773875Z",
     "start_time": "2021-08-17T21:35:57.613857Z"
    }
   },
   "outputs": [
    {
     "data": {
      "text/plain": [
       "[Row(area=0.0, prediction=6.169838669102178),\n",
       " Row(area=0.0, prediction=6.1500932021665315),\n",
       " Row(area=0.0, prediction=6.628494837350649),\n",
       " Row(area=0.0, prediction=5.836624400829339),\n",
       " Row(area=0.0, prediction=6.097209996231621),\n",
       " Row(area=0.0, prediction=8.031313609213454),\n",
       " Row(area=0.0, prediction=3.8486266574277677),\n",
       " Row(area=0.0, prediction=10.357114627905283),\n",
       " Row(area=0.0, prediction=11.48631588473679),\n",
       " Row(area=0.0, prediction=4.656677887252801)]"
      ]
     },
     "execution_count": 28,
     "metadata": {},
     "output_type": "execute_result"
    }
   ],
   "source": [
    "## generating predictions\n",
    "predictions = rf_model.transform(vectorized_df).select('area', 'prediction')\n",
    "predictions.head(10)"
   ]
  },
  {
   "cell_type": "markdown",
   "metadata": {},
   "source": [
    "Now we can evaluate how well the model performed using `RegressionEvaluator`."
   ]
  },
  {
   "cell_type": "code",
   "execution_count": 29,
   "metadata": {
    "ExecuteTime": {
     "end_time": "2021-08-17T21:35:57.784223Z",
     "start_time": "2021-08-17T21:35:57.775719Z"
    }
   },
   "outputs": [],
   "source": [
    "from pyspark.ml.evaluation import RegressionEvaluator\n",
    "evaluator = RegressionEvaluator(predictionCol='prediction', labelCol='area')"
   ]
  },
  {
   "cell_type": "code",
   "execution_count": 30,
   "metadata": {
    "ExecuteTime": {
     "end_time": "2021-08-17T21:35:57.991779Z",
     "start_time": "2021-08-17T21:35:57.786143Z"
    }
   },
   "outputs": [
    {
     "data": {
      "text/plain": [
       "0.7672059152947321"
      ]
     },
     "execution_count": 30,
     "metadata": {},
     "output_type": "execute_result"
    }
   ],
   "source": [
    "## evaluating r^2\n",
    "evaluator.evaluate(predictions,{evaluator.metricName: 'r2'})"
   ]
  },
  {
   "cell_type": "code",
   "execution_count": 31,
   "metadata": {
    "ExecuteTime": {
     "end_time": "2021-08-17T21:35:58.137514Z",
     "start_time": "2021-08-17T21:35:57.993824Z"
    }
   },
   "outputs": [
    {
     "data": {
      "text/plain": [
       "13.571402440225649"
      ]
     },
     "execution_count": 31,
     "metadata": {},
     "output_type": "execute_result"
    }
   ],
   "source": [
    "## evaluating mean absolute error\n",
    "evaluator.evaluate(predictions,{evaluator.metricName: 'mae'})"
   ]
  },
  {
   "cell_type": "markdown",
   "metadata": {},
   "source": [
    "## Putting it all in a Pipeline\n",
    "\n",
    "We just performed a whole lot of transformations to our data. Let's take a look at all the estimators we used to create this model:\n",
    "\n",
    "* `StringIndexer()` \n",
    "* `OneHotEnconder()` \n",
    "* `VectorAssembler()` \n",
    "* `RandomForestRegressor()` \n",
    "\n",
    "Once we've fit our model in the Pipeline, we're then going to want to evaluate it to determine how well it performs. We can do this with:\n",
    "\n",
    "* `RegressionEvaluator()` \n",
    "\n",
    "We can streamline all of these transformations to make it much more efficient by chaining them together in a pipeline. The Pipeline object expects a list of the estimators prior set to the parameter `stages`."
   ]
  },
  {
   "cell_type": "code",
   "execution_count": 32,
   "metadata": {
    "ExecuteTime": {
     "end_time": "2021-08-17T21:35:58.141907Z",
     "start_time": "2021-08-17T21:35:58.139462Z"
    }
   },
   "outputs": [],
   "source": [
    "# importing relevant libraries\n",
    "from pyspark.ml.tuning import ParamGridBuilder, TrainValidationSplit, CrossValidator\n",
    "from pyspark.ml import Pipeline"
   ]
  },
  {
   "cell_type": "code",
   "execution_count": 33,
   "metadata": {
    "ExecuteTime": {
     "end_time": "2021-08-17T21:35:58.175097Z",
     "start_time": "2021-08-17T21:35:58.144066Z"
    }
   },
   "outputs": [],
   "source": [
    "## instantiating all necessary estimator objects\n",
    "\n",
    "string_indexer = StringIndexer(inputCol='month', outputCol='month_num', handleInvalid='keep')\n",
    "one_hot_encoder = OneHotEncoder(inputCols=['month_num'], outputCols=['month_vec'], dropLast=True)\n",
    "vector_assember = VectorAssembler(inputCols=features, outputCol='features')\n",
    "random_forest = RandomForestRegressor(featuresCol='features', labelCol='area')\n",
    "stages = [string_indexer, one_hot_encoder, vector_assember, random_forest]\n",
    "\n",
    "# instantiating the pipeline with all them estimator objects\n",
    "pipeline = Pipeline(stages=stages)"
   ]
  },
  {
   "cell_type": "markdown",
   "metadata": {},
   "source": [
    "### Cross-validation \n",
    "\n",
    "You might have missed a critical step in the random forest regression above; we did not cross validate or perform a train/test split! Now we're going to fix that by performing cross-validation and also testing out multiple different combinations of parameters in PySpark's `GridSearch()` equivalent. To begin with, we will create a parameter grid that contains the different parameters we want to use in our model."
   ]
  },
  {
   "cell_type": "code",
   "execution_count": 34,
   "metadata": {
    "ExecuteTime": {
     "end_time": "2021-08-17T21:35:58.183443Z",
     "start_time": "2021-08-17T21:35:58.177317Z"
    }
   },
   "outputs": [],
   "source": [
    "# creating parameter grid\n",
    "\n",
    "params = ParamGridBuilder()\\\n",
    "          .addGrid(random_forest.maxDepth, [5, 10, 15])\\\n",
    "          .addGrid(random_forest.numTrees, [20 ,50, 100])\\\n",
    "          .build()"
   ]
  },
  {
   "cell_type": "markdown",
   "metadata": {},
   "source": [
    "Let's take a look at the params variable we just built."
   ]
  },
  {
   "cell_type": "code",
   "execution_count": 35,
   "metadata": {
    "ExecuteTime": {
     "end_time": "2021-08-17T21:35:58.191701Z",
     "start_time": "2021-08-17T21:35:58.185718Z"
    }
   },
   "outputs": [
    {
     "name": "stdout",
     "output_type": "stream",
     "text": [
      "total combinations of parameters:  9\n"
     ]
    },
    {
     "data": {
      "text/plain": [
       "{Param(parent='RandomForestRegressor_f6cb8e7e34a2', name='maxDepth', doc='Maximum depth of the tree. (>= 0) E.g., depth 0 means 1 leaf node; depth 1 means 1 internal node + 2 leaf nodes.'): 5,\n",
       " Param(parent='RandomForestRegressor_f6cb8e7e34a2', name='numTrees', doc='Number of trees to train (>= 1).'): 20}"
      ]
     },
     "execution_count": 35,
     "metadata": {},
     "output_type": "execute_result"
    }
   ],
   "source": [
    "print('total combinations of parameters: ', len(params))\n",
    "\n",
    "params[0]"
   ]
  },
  {
   "cell_type": "markdown",
   "metadata": {},
   "source": [
    "Now it's time to combine all the steps we've created to work in a single line of code with the `CrossValidator()` estimator."
   ]
  },
  {
   "cell_type": "code",
   "execution_count": 36,
   "metadata": {
    "ExecuteTime": {
     "end_time": "2021-08-17T21:35:58.201325Z",
     "start_time": "2021-08-17T21:35:58.194212Z"
    }
   },
   "outputs": [],
   "source": [
    "## instantiating the evaluator by which we will measure our model's performance\n",
    "reg_evaluator = RegressionEvaluator(predictionCol='prediction', labelCol='area', metricName = 'mae')\n",
    "\n",
    "## instantiating crossvalidator estimator\n",
    "cv = CrossValidator(estimator=pipeline, estimatorParamMaps=params, evaluator=reg_evaluator, parallelism=4)"
   ]
  },
  {
   "cell_type": "code",
   "execution_count": 37,
   "metadata": {
    "ExecuteTime": {
     "end_time": "2021-08-17T21:36:30.195304Z",
     "start_time": "2021-08-17T21:35:58.202873Z"
    }
   },
   "outputs": [],
   "source": [
    "## fitting crossvalidator\n",
    "cross_validated_model = cv.fit(fire_df)"
   ]
  },
  {
   "cell_type": "markdown",
   "metadata": {},
   "source": [
    "Now, let's see how well the model performed! Let's take a look at the average performance for each one of our 9 models. It looks like the optimal performance is an MAE around 23. Note that this is worse than our original model, but that's because our original model had substantial data leakage. We didn't do a train-test split!"
   ]
  },
  {
   "cell_type": "code",
   "execution_count": 38,
   "metadata": {
    "ExecuteTime": {
     "end_time": "2021-08-17T21:36:30.200042Z",
     "start_time": "2021-08-17T21:36:30.196684Z"
    },
    "scrolled": true
   },
   "outputs": [
    {
     "data": {
      "text/plain": [
       "[20.31862782870068,\n",
       " 21.035939448928634,\n",
       " 20.531510266985368,\n",
       " 20.923948890077472,\n",
       " 21.531377089474567,\n",
       " 21.231370160439937,\n",
       " 20.995655577183282,\n",
       " 21.700103553698707,\n",
       " 21.28433354711881]"
      ]
     },
     "execution_count": 38,
     "metadata": {},
     "output_type": "execute_result"
    }
   ],
   "source": [
    "cross_validated_model.avgMetrics"
   ]
  },
  {
   "cell_type": "markdown",
   "metadata": {},
   "source": [
    "Now, let's take a look at the optimal parameters of our best performing model. The `cross_validated_model` variable is now saved as the best performing model from the grid search just performed. Let's look to see how well the predictions performed. As you can see, this dataset has a large number of areas of \"0.0\" burned. Perhaps, it would be better to investigate this problem as a classification task."
   ]
  },
  {
   "cell_type": "code",
   "execution_count": 39,
   "metadata": {
    "ExecuteTime": {
     "end_time": "2021-08-17T21:36:30.338815Z",
     "start_time": "2021-08-17T21:36:30.202186Z"
    }
   },
   "outputs": [
    {
     "name": "stdout",
     "output_type": "stream",
     "text": [
      "+------------------+-------+\n",
      "|        prediction|   area|\n",
      "+------------------+-------+\n",
      "| 7.534336534011331|    0.0|\n",
      "| 5.472512273177187|    0.0|\n",
      "| 5.766199773177187|    0.0|\n",
      "|  9.63133836943096|    0.0|\n",
      "| 4.267483671509217|    0.0|\n",
      "| 6.880669578310477|    0.0|\n",
      "|   6.0136521555355|    0.0|\n",
      "|14.655464669032536|    0.0|\n",
      "|10.081704879169665|    0.0|\n",
      "| 6.141124179277453|    0.0|\n",
      "| 5.653560914487523|    0.0|\n",
      "| 4.992702444003092|    0.0|\n",
      "| 5.822982906740969|    0.0|\n",
      "|10.060852422127201|    0.0|\n",
      "|180.06464366625673|    0.0|\n",
      "| 8.040165959538426|    0.0|\n",
      "| 6.295140722295841|    0.0|\n",
      "| 8.230844864377461|    0.0|\n",
      "|4.7138664207345675|    0.0|\n",
      "| 5.463950973807268|    0.0|\n",
      "|15.411168889821244|    0.0|\n",
      "|3.2276869403290576|    0.0|\n",
      "| 5.322530774040546|    0.0|\n",
      "|24.118000479159555|    0.0|\n",
      "| 8.738970540796545|    0.0|\n",
      "| 7.351729176788401|    0.0|\n",
      "| 8.417971024167176|    0.0|\n",
      "|11.811350088787524|    0.0|\n",
      "|62.121768262357804|    0.0|\n",
      "| 8.638860368509011|    0.0|\n",
      "| 59.93967757604023|    0.0|\n",
      "| 6.475771020476371|    0.0|\n",
      "| 4.378253771599083|    0.0|\n",
      "|4.8860163228364195|    0.0|\n",
      "| 4.771008108917472|    0.0|\n",
      "| 6.757248446571562|    0.0|\n",
      "| 6.028033704947967|    0.0|\n",
      "| 6.622013250604056|    0.0|\n",
      "| 7.372836633090851|    0.0|\n",
      "| 4.691222307258402|    0.0|\n",
      "|16.846051168229298|    0.0|\n",
      "| 4.505990570306316|    0.0|\n",
      "| 3.515328540626671|    0.0|\n",
      "| 4.597749652918525|    0.0|\n",
      "| 6.167538984576884|    0.0|\n",
      "| 223.2191618547517|    0.0|\n",
      "| 7.115855828852214|    0.0|\n",
      "| 3.275846919341286|    0.0|\n",
      "|4.0649686365386435|    0.0|\n",
      "| 5.549120909278674|    0.0|\n",
      "| 6.999158991776244|    0.0|\n",
      "|  4.04696173337114|    0.0|\n",
      "|  4.64990268640381|    0.0|\n",
      "|  4.64990268640381|    0.0|\n",
      "| 4.125828089555562|    0.0|\n",
      "| 6.448455048610759|    0.0|\n",
      "| 5.964548041532999|    0.0|\n",
      "|  5.46900595596872|    0.0|\n",
      "| 5.450008992056958|    0.0|\n",
      "|10.197246908989722|    0.0|\n",
      "| 4.357554062040851|    0.0|\n",
      "| 9.215828874287826|    0.0|\n",
      "|4.7960653300727225|    0.0|\n",
      "|3.6506787586890694|    0.0|\n",
      "| 3.555546191874682|    0.0|\n",
      "|  9.77779837908617|    0.0|\n",
      "| 15.11335364720028|    0.0|\n",
      "| 17.34749083237353|    0.0|\n",
      "| 17.34749083237353|    0.0|\n",
      "| 4.349690437009271|    0.0|\n",
      "| 5.475663800886926|    0.0|\n",
      "| 4.093642959705793|    0.0|\n",
      "| 4.913865112051743|    0.0|\n",
      "| 5.894712369242929|    0.0|\n",
      "|  8.80720062212929|    0.0|\n",
      "| 6.381825147287571|    0.0|\n",
      "| 6.498014404455333|    0.0|\n",
      "| 5.736430931694762|    0.0|\n",
      "| 3.440588953197468|    0.0|\n",
      "|26.718891585375882|    0.0|\n",
      "| 7.780264715544351|    0.0|\n",
      "|14.938163248345585|    0.0|\n",
      "| 6.150266020496304|    0.0|\n",
      "|13.219105988720292|    0.0|\n",
      "| 7.818690632774766|    0.0|\n",
      "| 5.066724950901609|    0.0|\n",
      "| 2.616068143848855|    0.0|\n",
      "|4.9347110288908365|    0.0|\n",
      "|11.755751609060113|    0.0|\n",
      "| 5.992902764606158|    0.0|\n",
      "| 5.463538944209156|    0.0|\n",
      "| 8.933123677333274|    0.0|\n",
      "| 6.277335550565971|    0.0|\n",
      "|25.233881625389646|    0.0|\n",
      "| 8.154255703599055|    0.0|\n",
      "|5.3977414475796275|    0.0|\n",
      "| 5.341804606672054|    0.0|\n",
      "| 5.872550472542931|    0.0|\n",
      "| 4.972767544206854|    0.0|\n",
      "| 6.204232240649717|    0.0|\n",
      "| 6.204232240649717|    0.0|\n",
      "| 5.255063960702317|    0.0|\n",
      "| 5.177824123955582|    0.0|\n",
      "| 8.347875225617875|    0.0|\n",
      "| 5.026861511496833|    0.0|\n",
      "| 5.549120909278674|    0.0|\n",
      "|4.5081358387641135|    0.0|\n",
      "|  4.04696173337114|    0.0|\n",
      "| 4.761170705550105|    0.0|\n",
      "|5.7433327637552205|    0.0|\n",
      "| 5.549120909278674|    0.0|\n",
      "|3.5776966241889014|    0.0|\n",
      "| 4.762606552185608|    0.0|\n",
      "|3.3079108274038527|    0.0|\n",
      "| 5.550381508024396|    0.0|\n",
      "| 5.550381508024396|    0.0|\n",
      "| 4.739491880052629|    0.0|\n",
      "| 5.530503273944335|    0.0|\n",
      "|  4.32144950845959|    0.0|\n",
      "| 3.601552764965782|    0.0|\n",
      "| 5.183438283669794|    0.0|\n",
      "| 5.701376841293947|    0.0|\n",
      "| 8.153287064422468|    0.0|\n",
      "|12.890855289852464|    0.0|\n",
      "| 5.255423945321739|    0.0|\n",
      "| 5.134095109403597|    0.0|\n",
      "| 4.528851245266532|    0.0|\n",
      "| 7.862061705713657|    0.0|\n",
      "| 4.178804366682578|    0.0|\n",
      "| 3.987726507123937|    0.0|\n",
      "| 4.909422310407624|    0.0|\n",
      "|4.0649686365386435|    0.0|\n",
      "|  4.64280522066793|    0.0|\n",
      "| 4.377800796136571|    0.0|\n",
      "| 3.902597574546774|    0.0|\n",
      "| 6.758102284367787|    0.0|\n",
      "| 11.14856713416727|    0.0|\n",
      "| 9.179749902926288|    0.0|\n",
      "| 6.679827308524665|   0.36|\n",
      "| 12.25141596913038|   0.43|\n",
      "|  9.01551529289925|   0.47|\n",
      "| 4.365483000758387|   0.55|\n",
      "| 9.119018157029007|   0.61|\n",
      "|13.334659426076499|   0.71|\n",
      "|3.3647164832653247|   0.77|\n",
      "|10.144040414787103|    0.9|\n",
      "|18.413041151602396|   0.95|\n",
      "|  13.1858449746935|   0.96|\n",
      "| 4.444742156441039|   1.07|\n",
      "| 8.889762512346739|   1.12|\n",
      "| 5.602818704388446|   1.19|\n",
      "|28.346949860849215|   1.36|\n",
      "|13.047906561595786|   1.43|\n",
      "| 5.448523945321738|   1.46|\n",
      "|50.095557594757416|   1.46|\n",
      "|3.9021048805503598|   1.56|\n",
      "|53.280284415485724|   1.61|\n",
      "|6.0102134429298895|   1.63|\n",
      "| 4.118431592573716|   1.64|\n",
      "| 8.417971024167176|   1.69|\n",
      "| 4.760436397798514|   1.75|\n",
      "|5.6158062283716115|    1.9|\n",
      "| 6.911855625483099|   1.94|\n",
      "|18.720665637960437|   1.95|\n",
      "| 6.543206057834814|   2.01|\n",
      "| 6.296189368154659|   2.14|\n",
      "|3.7116899415071587|   2.29|\n",
      "| 7.461138335747253|   2.51|\n",
      "| 10.59987698589714|   2.53|\n",
      "|  8.24321462850322|   2.55|\n",
      "| 6.429111531525931|   2.57|\n",
      "| 7.097574065445238|   2.69|\n",
      "| 9.795125322662873|   2.74|\n",
      "| 9.468678678648978|   3.07|\n",
      "| 5.283041315347509|    3.5|\n",
      "| 5.976376341360561|   4.53|\n",
      "| 6.401558644002047|   4.61|\n",
      "| 5.104327201554016|   4.69|\n",
      "| 6.179908185943126|   4.88|\n",
      "| 15.82919914582194|   5.23|\n",
      "| 7.685691499930121|   5.33|\n",
      "|13.885261785727248|   5.44|\n",
      "|  6.69971127472453|   6.38|\n",
      "| 7.697702381483062|   6.83|\n",
      "| 8.751160931669101|   6.96|\n",
      "|10.632066772289585|   7.04|\n",
      "|16.926466119058546|   7.19|\n",
      "|11.175146653632016|    7.3|\n",
      "| 4.585330091054062|    7.4|\n",
      "|  6.77486185857079|   8.24|\n",
      "|10.180397123526934|   8.31|\n",
      "| 6.983581210839006|   8.68|\n",
      "| 7.379217841280727|   8.71|\n",
      "| 15.79593394671347|   9.41|\n",
      "| 7.379217841280727|  10.01|\n",
      "| 4.340467225272748|  10.02|\n",
      "| 6.401558644002047|  10.93|\n",
      "|10.784825658442909|  11.06|\n",
      "| 7.796204387903138|  11.24|\n",
      "|12.529699866144274|  11.32|\n",
      "|13.428897649371809|  11.53|\n",
      "| 5.572734179581622|   12.1|\n",
      "| 6.228196533804057|  13.05|\n",
      "|  8.95192506550853|   13.7|\n",
      "| 5.547056879771149|  13.99|\n",
      "| 7.009854444560548|  14.57|\n",
      "| 6.255581681939147|  15.45|\n",
      "|12.696682238739772|   17.2|\n",
      "| 8.782800885278288|  19.23|\n",
      "| 9.280976619399816|  23.41|\n",
      "| 6.014478331402227|  24.23|\n",
      "| 9.006315292851534|   26.0|\n",
      "| 6.867425275573444|  26.13|\n",
      "|    8.116031325678|  27.35|\n",
      "| 6.295140722295841|  28.66|\n",
      "| 6.295140722295841|  28.66|\n",
      "| 11.14856713416727|  29.48|\n",
      "| 7.468875479253913|  30.32|\n",
      "| 16.89576735279507|  31.72|\n",
      "| 5.675798909240731|  31.86|\n",
      "| 6.180053049304041|  32.07|\n",
      "| 9.118325253647749|  35.88|\n",
      "| 6.130815700945342|  36.85|\n",
      "|21.489693098835467|  37.02|\n",
      "| 8.774872880618066|  37.71|\n",
      "| 9.049124771691158|  48.55|\n",
      "|11.265035714816396|  49.37|\n",
      "|15.051163350929357|   58.3|\n",
      "|  73.5692931371562|   64.1|\n",
      "|16.361379458897044|   71.3|\n",
      "|40.396874058413594|  88.49|\n",
      "| 70.06421267497133|  95.18|\n",
      "|16.180581999068202| 103.39|\n",
      "|54.144495486457984| 105.66|\n",
      "| 129.8465685709096| 154.88|\n",
      "|49.635377965698005| 196.48|\n",
      "| 83.16650369021316| 200.94|\n",
      "| 64.24381457939371| 212.88|\n",
      "| 774.4844145346042|1090.84|\n",
      "| 5.257840712730643|    0.0|\n",
      "|5.7947747726343835|    0.0|\n",
      "| 5.820820659067869|    0.0|\n",
      "| 5.524560448806901|  10.13|\n",
      "| 8.505812169562764|    0.0|\n",
      "| 6.766724085334718|   2.87|\n",
      "|14.240249473260107|   0.76|\n",
      "|  13.3242125684982|   0.09|\n",
      "| 4.300184077011682|   0.75|\n",
      "| 5.507613638265471|    0.0|\n",
      "| 5.751056023128434|   2.47|\n",
      "| 9.954723200662997|   0.68|\n",
      "| 5.562121754346206|   0.24|\n",
      "| 4.832018547441201|   0.21|\n",
      "|5.3104885390053775|   1.52|\n",
      "| 9.349186275306874|  10.34|\n",
      "| 8.109991437198087|    0.0|\n",
      "| 9.011889827523563|   8.02|\n",
      "|  5.18627709295074|   0.68|\n",
      "| 5.004394093241559|    0.0|\n",
      "| 6.273697956783943|   1.38|\n",
      "| 4.353003050744756|   8.85|\n",
      "|3.1871393252637104|    3.3|\n",
      "| 4.154329811711453|   4.25|\n",
      "| 9.510949877050113|   1.56|\n",
      "| 5.689018783557017|   6.54|\n",
      "| 6.747222251737535|   0.79|\n",
      "| 8.055011565322722|   0.17|\n",
      "| 10.54548008423322|    0.0|\n",
      "| 4.892084676868263|    0.0|\n",
      "| 7.171821086109071|    4.4|\n",
      "| 17.49729178978848|   0.52|\n",
      "|   9.9785491053069|   9.27|\n",
      "| 6.647491546568136|   3.09|\n",
      "| 5.575883357912482|   8.98|\n",
      "| 8.008210318452404|  11.19|\n",
      "|6.3813593036260645|   5.38|\n",
      "| 9.473094306072397|  17.85|\n",
      "| 8.490493992843957|  10.73|\n",
      "| 9.473094306072397|  22.03|\n",
      "| 9.473094306072397|   9.77|\n",
      "|6.3813593036260645|   9.27|\n",
      "| 9.249691741969832|  24.77|\n",
      "| 7.556998638235845|    0.0|\n",
      "|   5.9110865420129|    1.1|\n",
      "| 7.768684216920754|  24.24|\n",
      "| 8.419415533533346|    0.0|\n",
      "|10.672860399851633|    0.0|\n",
      "| 5.835577082064235|    0.0|\n",
      "| 5.641788683567251|    0.0|\n",
      "| 5.737372966661388|    0.0|\n",
      "| 6.053046494630204|    0.0|\n",
      "| 10.12353762081467|    8.0|\n",
      "|3.9493449959451317|   2.64|\n",
      "| 34.91977214708024|  86.45|\n",
      "| 5.020656316912374|   6.57|\n",
      "|10.906727507951526|    0.0|\n",
      "| 4.962681976059534|    0.9|\n",
      "|3.6142361264441227|    0.0|\n",
      "| 28.32463474516826|    0.0|\n",
      "| 5.001820370406924|    0.0|\n",
      "+------------------+-------+\n",
      "only showing top 300 rows\n",
      "\n"
     ]
    }
   ],
   "source": [
    "predictions = cross_validated_model.transform(spark_df)\n",
    "predictions.select('prediction', 'area').show(300)"
   ]
  },
  {
   "cell_type": "markdown",
   "metadata": {},
   "source": [
    "Now let's go ahead and take a look at the feature importances of our random forest model. In order to do this, we need to unroll our pipeline to access the random forest model. Let's start by first checking out the `.bestModel` attribute of our `cross_validated_model`. "
   ]
  },
  {
   "cell_type": "code",
   "execution_count": 40,
   "metadata": {
    "ExecuteTime": {
     "end_time": "2021-08-17T21:36:30.351524Z",
     "start_time": "2021-08-17T21:36:30.341106Z"
    },
    "slideshow": {
     "slide_type": "slide"
    }
   },
   "outputs": [
    {
     "data": {
      "text/plain": [
       "pyspark.ml.pipeline.PipelineModel"
      ]
     },
     "execution_count": 40,
     "metadata": {},
     "output_type": "execute_result"
    }
   ],
   "source": [
    "type(cross_validated_model.bestModel)"
   ]
  },
  {
   "cell_type": "markdown",
   "metadata": {},
   "source": [
    "`ml` is treating the entire pipeline as the best performing model, so we need to go deeper into the pipeline to access the random forest model within it. Previously, we put the random forest model as the final \"stage\" in the stages variable list. Let's look at the `.stages` attribute of the `.bestModel`."
   ]
  },
  {
   "cell_type": "code",
   "execution_count": 41,
   "metadata": {
    "ExecuteTime": {
     "end_time": "2021-08-17T21:36:30.358764Z",
     "start_time": "2021-08-17T21:36:30.353366Z"
    }
   },
   "outputs": [
    {
     "data": {
      "text/plain": [
       "[StringIndexerModel: uid=StringIndexer_fc482d544f0d, handleInvalid=keep,\n",
       " OneHotEncoderModel: uid=OneHotEncoder_24b81a98aada, dropLast=true, handleInvalid=error, numInputCols=1, numOutputCols=1,\n",
       " VectorAssembler_4c6763d92206,\n",
       " RandomForestRegressionModel: uid=RandomForestRegressor_f6cb8e7e34a2, numTrees=20, numFeatures=22]"
      ]
     },
     "execution_count": 41,
     "metadata": {},
     "output_type": "execute_result"
    }
   ],
   "source": [
    "cross_validated_model.bestModel.stages"
   ]
  },
  {
   "cell_type": "markdown",
   "metadata": {},
   "source": [
    "Perfect! There's the RandomForestRegressionModel, represented by the last item in the stages list. Now, we should be able to access all the attributes of the random forest regressor."
   ]
  },
  {
   "cell_type": "code",
   "execution_count": 42,
   "metadata": {
    "ExecuteTime": {
     "end_time": "2021-08-17T21:36:30.363014Z",
     "start_time": "2021-08-17T21:36:30.360615Z"
    }
   },
   "outputs": [],
   "source": [
    "optimal_rf_model = cross_validated_model.bestModel.stages[3]"
   ]
  },
  {
   "cell_type": "code",
   "execution_count": 43,
   "metadata": {
    "ExecuteTime": {
     "end_time": "2021-08-17T21:36:30.376199Z",
     "start_time": "2021-08-17T21:36:30.365130Z"
    }
   },
   "outputs": [
    {
     "data": {
      "text/plain": [
       "SparseVector(22, {0: 0.1684, 1: 0.0724, 2: 0.0632, 3: 0.1486, 4: 0.0628, 5: 0.133, 6: 0.118, 7: 0.084, 8: 0.1194, 10: 0.0019, 11: 0.023, 13: 0.0045, 14: 0.0, 15: 0.0003, 16: 0.0, 17: 0.0001, 18: 0.0, 20: 0.0003})"
      ]
     },
     "execution_count": 43,
     "metadata": {},
     "output_type": "execute_result"
    }
   ],
   "source": [
    "optimal_rf_model.featureImportances"
   ]
  },
  {
   "cell_type": "code",
   "execution_count": 44,
   "metadata": {
    "ExecuteTime": {
     "end_time": "2021-08-17T21:36:30.384669Z",
     "start_time": "2021-08-17T21:36:30.380514Z"
    }
   },
   "outputs": [
    {
     "data": {
      "text/plain": [
       "20"
      ]
     },
     "execution_count": 44,
     "metadata": {},
     "output_type": "execute_result"
    }
   ],
   "source": [
    "optimal_rf_model.getNumTrees"
   ]
  },
  {
   "cell_type": "markdown",
   "metadata": {},
   "source": [
    "## Summary\n",
    "\n",
    "In this lesson, you learned about PySpark's DataFrames, machine learning models, and pipelines. With the use of a pipeline, you can train a huge number of models simultaneously, saving you a substantial amount of time and effort. Up next, you will have a chance to build a PySpark machine learning pipeline of your own with a classification problem!"
   ]
  }
 ],
 "metadata": {
  "kernelspec": {
   "display_name": "Python 3",
   "language": "python",
   "name": "python3"
  },
  "language_info": {
   "codemirror_mode": {
    "name": "ipython",
    "version": 3
   },
   "file_extension": ".py",
   "mimetype": "text/x-python",
   "name": "python",
   "nbconvert_exporter": "python",
   "pygments_lexer": "ipython3",
   "version": "3.8.5"
  },
  "toc": {
   "base_numbering": 1,
   "nav_menu": {},
   "number_sections": true,
   "sideBar": true,
   "skip_h1_title": false,
   "title_cell": "Table of Contents",
   "title_sidebar": "Contents",
   "toc_cell": false,
   "toc_position": {},
   "toc_section_display": true,
   "toc_window_display": false
  },
  "varInspector": {
   "cols": {
    "lenName": 16,
    "lenType": 16,
    "lenVar": 40
   },
   "kernels_config": {
    "python": {
     "delete_cmd_postfix": "",
     "delete_cmd_prefix": "del ",
     "library": "var_list.py",
     "varRefreshCmd": "print(var_dic_list())"
    },
    "r": {
     "delete_cmd_postfix": ") ",
     "delete_cmd_prefix": "rm(",
     "library": "var_list.r",
     "varRefreshCmd": "cat(var_dic_list()) "
    }
   },
   "types_to_exclude": [
    "module",
    "function",
    "builtin_function_or_method",
    "instance",
    "_Feature"
   ],
   "window_display": false
  }
 },
 "nbformat": 4,
 "nbformat_minor": 2
}
